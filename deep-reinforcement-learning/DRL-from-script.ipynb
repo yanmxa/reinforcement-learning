{
 "cells": [
  {
   "cell_type": "code",
   "execution_count": 12,
   "id": "present-drilling",
   "metadata": {},
   "outputs": [],
   "source": [
    "import gym\n",
    "import random  "
   ]
  },
  {
   "cell_type": "code",
   "execution_count": 13,
   "id": "suburban-bridal",
   "metadata": {},
   "outputs": [],
   "source": [
    "env = gym.make('CartPole-v0')"
   ]
  },
  {
   "cell_type": "code",
   "execution_count": 14,
   "id": "silver-junior",
   "metadata": {},
   "outputs": [
    {
     "name": "stdout",
     "output_type": "stream",
     "text": [
      "4 2 0\n"
     ]
    }
   ],
   "source": [
    "states = env.observation_space.shape[0]\n",
    "actions = env.action_space.n\n",
    "print(states, actions, env.action_space.sample())"
   ]
  },
  {
   "cell_type": "code",
   "execution_count": 15,
   "id": "human-fight",
   "metadata": {},
   "outputs": [
    {
     "data": {
      "text/plain": [
       "array([ 1.2733034e+00,  8.0114494e+37, -3.5391843e-01, -1.6309859e+38],\n",
       "      dtype=float32)"
      ]
     },
     "execution_count": 15,
     "metadata": {},
     "output_type": "execute_result"
    }
   ],
   "source": [
    "env.observation_space.sample()"
   ]
  },
  {
   "cell_type": "code",
   "execution_count": 16,
   "id": "velvet-strain",
   "metadata": {},
   "outputs": [
    {
     "data": {
      "text/plain": [
       "array([-0.04170442,  0.0268412 , -0.01016623,  0.04803184])"
      ]
     },
     "execution_count": 16,
     "metadata": {},
     "output_type": "execute_result"
    }
   ],
   "source": [
    "env.reset()"
   ]
  },
  {
   "cell_type": "code",
   "execution_count": 17,
   "id": "illegal-astrology",
   "metadata": {},
   "outputs": [
    {
     "name": "stdout",
     "output_type": "stream",
     "text": [
      "Episode:1 Socre:16.0\n",
      "Episode:2 Socre:42.0\n",
      "Episode:3 Socre:12.0\n",
      "Episode:4 Socre:21.0\n",
      "Episode:5 Socre:11.0\n",
      "Episode:6 Socre:32.0\n",
      "Episode:7 Socre:63.0\n",
      "Episode:8 Socre:30.0\n",
      "Episode:9 Socre:29.0\n",
      "Episode:10 Socre:24.0\n"
     ]
    }
   ],
   "source": [
    "episodes = 10\n",
    "for episode in range(1, episodes + 1):\n",
    "    state = env.reset()\n",
    "    done = False\n",
    "    score = 0\n",
    "    while not done:\n",
    "        env.render()\n",
    "        action = random.choice([0, 1])\n",
    "        next_state, reward, done, info = env.step(action)\n",
    "        score += reward\n",
    "    print('Episode:{} Socre:{}'.format(episode, score))"
   ]
  },
  {
   "cell_type": "code",
   "execution_count": 18,
   "id": "english-reminder",
   "metadata": {},
   "outputs": [],
   "source": [
    "import numpy as np\n",
    "from tensorflow.keras.models import Sequential\n",
    "from tensorflow.keras.layers import Dense, Flatten\n",
    "from tensorflow.keras.optimizers import Adam\n",
    "\n",
    "def build_model(states, actions):\n",
    "    model = Sequential()\n",
    "    model.add(Flatten(input_shape=(1, states)))\n",
    "    model.add(Dense(24, activation='relu'))\n",
    "    model.add(Dense(24, activation='relu'))\n",
    "    model.add(Dense(actions, activation='linear'))\n",
    "    return model"
   ]
  },
  {
   "cell_type": "code",
   "execution_count": 19,
   "id": "abandoned-daisy",
   "metadata": {},
   "outputs": [
    {
     "name": "stdout",
     "output_type": "stream",
     "text": [
      "Model: \"sequential_3\"\n",
      "_________________________________________________________________\n",
      "Layer (type)                 Output Shape              Param #   \n",
      "=================================================================\n",
      "flatten_3 (Flatten)          (None, 4)                 0         \n",
      "_________________________________________________________________\n",
      "dense_9 (Dense)              (None, 24)                120       \n",
      "_________________________________________________________________\n",
      "dense_10 (Dense)             (None, 24)                600       \n",
      "_________________________________________________________________\n",
      "dense_11 (Dense)             (None, 2)                 50        \n",
      "=================================================================\n",
      "Total params: 770\n",
      "Trainable params: 770\n",
      "Non-trainable params: 0\n",
      "_________________________________________________________________\n"
     ]
    }
   ],
   "source": [
    "model = build_model(states, actions)\n",
    "model.summary()"
   ]
  },
  {
   "cell_type": "code",
   "execution_count": 15,
   "id": "abroad-capture",
   "metadata": {},
   "outputs": [],
   "source": [
    "import numpy as np\n",
    "from tensorflow.keras.models import Sequential\n",
    "from tensorflow.keras.layers import Dense, Flatten\n",
    "from tensorflow.keras.optimizers import Adam\n",
    "import collections\n",
    "\n",
    "class DQNAgent():\n",
    "    def __init__(self, state_n, action_n):\n",
    "        self.memory = collections.deque(maxlen = 5000)\n",
    "        self.batch_size = 20\n",
    "               \n",
    "        self.epsilon = 1.0               # 0.99 probability of exploring, it might decrease during training\n",
    "        self.epsilon_min = 0.01\n",
    "        self.epsilon_decay = 0.995       \n",
    "\n",
    "        self.gamma = 0.95                # discount factor\n",
    "        self.batch_size = 32\n",
    "        self.step = 0\n",
    "        \n",
    "        self.state_n = state_n\n",
    "        self.action_n = action_n\n",
    "        self.learning_rate = 0.001        # 0.0005\n",
    "        \n",
    "        self.model = self.__build_model() \n",
    "        self.C = 10                       # synchronize the model to target per 50 step(target sync frequence) \n",
    "        self.target_model = self.copy(self.model)  # todo: copy \n",
    "        self.path = './save/cartpole-dqn.h5'\n",
    "    \n",
    "    def __build_model(self):\n",
    "        model = Sequential()\n",
    "        model.add(Dense(24, activation='relu', input_dim=self.state_n))\n",
    "        model.add(Dense(24, activation='relu'))\n",
    "        model.add(Dense(self.action_n, activation='linear'))\n",
    "        model.compile(loss='mse', optimizer=Adam(lr = self.learning_rate))\n",
    "        return model\n",
    "    \n",
    "    def act(self, state):\n",
    "        if np.random.rand() <= self.epsilon:\n",
    "            return np.random.randint(self.action_n)\n",
    "        states = np.expand_dims(state, axis=0)         # state = np.reshape(state, [1, states_n])\n",
    "        q_actions = self.model.predict(states)         # [[q_action1, q_action2, ...]]      \n",
    "        q_actions = np.squeeze(q_actions, axis=0)      # q_actions = q_actions[0]\n",
    "        action = np.argmax(q_actions)\n",
    "        return action\n",
    "    \n",
    "    def memorize(self, state, action, reward, next_state, done):\n",
    "        reward = reward if not done else -10           # 如果结束是否进行惩罚措施\n",
    "        self.memory.append((state, action, reward, next_state, done)) \n",
    " \n",
    "    def learn(self):\n",
    "        if len(self.memory) < self.batch_size: return\n",
    "        \n",
    "        if self.step % self.C == 0:\n",
    "            self.target_model = self.copy(self.model) # todo \n",
    "    \n",
    "        mini_batch = random.sample(self.memory, self.batch_size)\n",
    "        states = []\n",
    "        q_actions_targets = []\n",
    "        for state, action, reward, next_state, done in mini_batch:\n",
    "            target_value = reward\n",
    "            if not done:\n",
    "                next_states = np.expand_dims(next_state, axis=0)\n",
    "                q_next_actions = self.target_model(next_states)\n",
    "                q_next_actions = np.squeeze(q_next_actions, axis=0)\n",
    "                target_value = reward + self.gamma * np.max(q_next_actions)\n",
    "            \n",
    "            q_actions_target = self.target_model.predict(np.expand_dims(state, axis=0))\n",
    "            q_actions_target = np.squeeze(q_actions_target, axis=0) # q_actions = q_actions[0]\n",
    "            q_actions_target[action] = target_value\n",
    "            \n",
    "            states.append(state)\n",
    "            q_actions_targets.append(q_actions_target)\n",
    "            \n",
    "        history = self.model.fit(np.array(states), np.array(q_actions_targets), epochs=1, verbose=0)\n",
    "        \n",
    "        self.step += 1\n",
    "        if self.epsilon > self.epsilon_min:\n",
    "            self.epsilon *= self.epsilon_decay \n",
    "        \n",
    "        return history.history['loss'][0]\n",
    "            \n",
    "    def load(self):\n",
    "        self.model.load_weights(self.path)\n",
    "\n",
    "    def save(self):\n",
    "        self.model.save_weights(self.path)\n",
    "        \n",
    "    def copy(self, model):\n",
    "        return model"
   ]
  },
  {
   "cell_type": "code",
   "execution_count": 4,
   "id": "sitting-terrace",
   "metadata": {},
   "outputs": [
    {
     "name": "stdout",
     "output_type": "stream",
     "text": [
      "Episode: 1 Socre: 10.0 \n",
      "Episode: 2 Socre: 10.0 \n",
      "Episode: 3 Socre: 15.0 \n",
      "Episode: 4 Socre: 19.0 \n",
      "Episode: 5 Socre: 26.0 \n",
      "Episode: 6 Socre: 11.0 \n",
      "Episode: 7 Socre: 12.0 \n",
      "Episode: 8 Socre: 15.0 \n",
      "Episode: 9 Socre: 39.0 \n",
      "Episode: 10 Socre: 10.0 \n",
      "Episode: 11 Socre: 35.0 \n",
      "Episode: 12 Socre: 9.0 \n",
      "Episode: 13 Socre: 15.0 \n",
      "Episode: 14 Socre: 10.0 \n",
      "Episode: 15 Socre: 47.0 \n",
      "Episode: 16 Socre: 13.0 \n",
      "Episode: 17 Socre: 12.0 \n",
      "Episode: 18 Socre: 15.0 \n",
      "Episode: 19 Socre: 13.0 \n",
      "Episode: 20 Socre: 16.0 \n",
      "Episode: 21 Socre: 19.0 \n",
      "Episode: 22 Socre: 57.0 \n",
      "Episode: 23 Socre: 51.0 \n",
      "Episode: 24 Socre: 60.0 \n",
      "Episode: 25 Socre: 23.0 \n",
      "Episode: 26 Socre: 14.0 \n",
      "Episode: 27 Socre: 16.0 \n",
      "Episode: 28 Socre: 20.0 \n",
      "Episode: 29 Socre: 18.0 \n",
      "Episode: 30 Socre: 21.0 \n",
      "Episode: 31 Socre: 16.0 \n",
      "Episode: 32 Socre: 15.0 \n",
      "Episode: 33 Socre: 72.0 \n",
      "Episode: 34 Socre: 64.0 \n",
      "Episode: 35 Socre: 42.0 \n",
      "Episode: 36 Socre: 77.0 \n",
      "Episode: 37 Socre: 72.0 \n",
      "Episode: 38 Socre: 74.0 \n",
      "Episode: 39 Socre: 53.0 \n",
      "Episode: 40 Socre: 67.0 \n",
      "Episode: 41 Socre: 122.0 \n",
      "Episode: 42 Socre: 141.0 \n",
      "Episode: 43 Socre: 130.0 \n",
      "Episode: 44 Socre: 149.0 \n",
      "Episode: 45 Socre: 135.0 \n",
      "Episode: 46 Socre: 200.0 \n",
      "Episode: 47 Socre: 153.0 \n",
      "Episode: 48 Socre: 156.0 \n",
      "Episode: 49 Socre: 200.0 \n",
      "Episode: 50 Socre: 180.0 \n",
      "Episode: 51 Socre: 175.0 \n",
      "Episode: 52 Socre: 171.0 \n",
      "Episode: 53 Socre: 191.0 \n",
      "Episode: 54 Socre: 200.0 \n",
      "Episode: 55 Socre: 167.0 \n",
      "Episode: 56 Socre: 196.0 \n",
      "Episode: 57 Socre: 182.0 \n",
      "Episode: 58 Socre: 191.0 \n",
      "Episode: 59 Socre: 191.0 \n",
      "Episode: 60 Socre: 176.0 \n",
      "Episode: 61 Socre: 174.0 \n",
      "Episode: 62 Socre: 170.0 \n",
      "Episode: 63 Socre: 161.0 \n",
      "Episode: 64 Socre: 163.0 \n",
      "Episode: 65 Socre: 152.0 \n",
      "Episode: 66 Socre: 167.0 \n",
      "Episode: 67 Socre: 200.0 \n",
      "Episode: 68 Socre: 195.0 \n",
      "Episode: 69 Socre: 185.0 \n",
      "Episode: 70 Socre: 181.0 \n",
      "Episode: 71 Socre: 176.0 \n",
      "Episode: 72 Socre: 173.0 \n",
      "Episode: 73 Socre: 200.0 \n",
      "Episode: 74 Socre: 200.0 \n",
      "Episode: 75 Socre: 200.0 \n",
      "Episode: 76 Socre: 200.0 \n",
      "Episode: 77 Socre: 200.0 \n",
      "Episode: 78 Socre: 186.0 \n",
      "Episode: 79 Socre: 198.0 \n",
      "Episode: 80 Socre: 165.0 \n",
      "Episode: 81 Socre: 200.0 \n",
      "Episode: 82 Socre: 200.0 \n",
      "Episode: 83 Socre: 193.0 \n",
      "Episode: 84 Socre: 200.0 \n",
      "Episode: 85 Socre: 184.0 \n",
      "Episode: 86 Socre: 170.0 \n",
      "Episode: 87 Socre: 200.0 \n",
      "Episode: 88 Socre: 200.0 \n",
      "Episode: 89 Socre: 198.0 \n",
      "Episode: 90 Socre: 188.0 \n",
      "Episode: 91 Socre: 194.0 \n",
      "Episode: 92 Socre: 200.0 \n",
      "Episode: 93 Socre: 200.0 \n",
      "Episode: 94 Socre: 188.0 \n",
      "Episode: 95 Socre: 194.0 \n",
      "Episode: 96 Socre: 199.0 \n",
      "Episode: 97 Socre: 200.0 \n",
      "Episode: 98 Socre: 176.0 \n",
      "Episode: 99 Socre: 141.0 \n",
      "Episode: 100 Socre: 161.0 \n"
     ]
    }
   ],
   "source": [
    "import gym\n",
    "import random \n",
    "\n",
    "env = gym.make('CartPole-v1')\n",
    "state_n = env.observation_space.shape[0]\n",
    "action_n = env.action_space.n\n",
    "\n",
    "agent = DQNAgent(state_n, action_n)\n",
    "\n",
    "episodes = 100\n",
    "scores = []\n",
    "for episode in range(1, episodes + 1): \n",
    "    state = env.reset()\n",
    "    done = False\n",
    "    score = 0  \n",
    "    for _ in range(200):\n",
    "#             env.render()\n",
    "        action = agent.act(state)\n",
    "        next_state, reward, done, _ = env.step(action)\n",
    "        agent.memorize(state, action, reward, next_state, done)\n",
    "        state = next_state\n",
    "        score += reward\n",
    "        agent.learn()\n",
    "        if done: break\n",
    "        \n",
    "    scores.append(score)\n",
    "    print('Episode: {} Socre: {} '.format(episode, score))"
   ]
  },
  {
   "cell_type": "code",
   "execution_count": 14,
   "id": "subtle-tulsa",
   "metadata": {},
   "outputs": [
    {
     "name": "stderr",
     "output_type": "stream",
     "text": [
      "No handles with labels found to put in legend.\n"
     ]
    },
    {
     "data": {
      "image/png": "[encoded data removed]",
      "text/plain": [
       "<Figure size 432x288 with 1 Axes>"
      ]
     },
     "metadata": {
      "needs_background": "light"
     },
     "output_type": "display_data"
    }
   ],
   "source": [
    "import matplotlib.pyplot as plt\n",
    "\n",
    "x = range(1, episodes + 1)\n",
    "withoutCopy = scores\n",
    "# copy = scores1\n",
    "\n",
    "fig, ax = plt.subplots()\n",
    "\n",
    "line1, = ax.plot(x, withoutCopy)\n",
    "# line1.set_dashes([2, 2, 10, 2])  \n",
    "# line2, = ax.plot(x, withCopy, label='copy')\n",
    "ax.set_xlabel(r'episode', fontsize=15)\n",
    "ax.set_ylabel(r'score', fontsize=15)\n",
    "\n",
    "ax.legend()\n",
    "plt.show()"
   ]
  },
  {
   "cell_type": "code",
   "execution_count": 8,
   "id": "dressed-veteran",
   "metadata": {},
   "outputs": [],
   "source": [
    "agent.save()"
   ]
  },
  {
   "cell_type": "code",
   "execution_count": 19,
   "id": "increased-denver",
   "metadata": {},
   "outputs": [
    {
     "name": "stdout",
     "output_type": "stream",
     "text": [
      "Episode: 1 Socre: 14.0 \n",
      "Episode: 2 Socre: 32.0 \n",
      "Episode: 3 Socre: 12.0 \n",
      "Episode: 4 Socre: 17.0 \n",
      "Episode: 5 Socre: 13.0 \n",
      "Episode: 6 Socre: 18.0 \n",
      "Episode: 7 Socre: 12.0 \n",
      "Episode: 8 Socre: 12.0 \n",
      "Episode: 9 Socre: 18.0 \n",
      "Episode: 10 Socre: 11.0 \n",
      "Episode: 11 Socre: 10.0 \n",
      "Episode: 12 Socre: 10.0 \n",
      "Episode: 13 Socre: 14.0 \n",
      "Episode: 14 Socre: 13.0 \n",
      "Episode: 15 Socre: 9.0 \n",
      "Episode: 16 Socre: 10.0 \n",
      "Episode: 17 Socre: 30.0 \n",
      "Episode: 18 Socre: 9.0 \n",
      "Episode: 19 Socre: 9.0 \n",
      "Episode: 20 Socre: 11.0 \n",
      "Episode: 21 Socre: 11.0 \n",
      "Episode: 22 Socre: 10.0 \n",
      "Episode: 23 Socre: 10.0 \n",
      "Episode: 24 Socre: 12.0 \n",
      "Episode: 25 Socre: 9.0 \n",
      "Episode: 26 Socre: 13.0 \n",
      "Episode: 27 Socre: 93.0 \n",
      "Episode: 28 Socre: 97.0 \n",
      "Episode: 29 Socre: 97.0 \n",
      "Episode: 30 Socre: 60.0 \n",
      "Episode: 31 Socre: 73.0 \n",
      "Episode: 32 Socre: 99.0 \n",
      "Episode: 33 Socre: 109.0 \n",
      "Episode: 34 Socre: 94.0 \n",
      "Episode: 35 Socre: 152.0 \n",
      "Episode: 36 Socre: 140.0 \n",
      "Episode: 37 Socre: 100.0 \n",
      "Episode: 38 Socre: 127.0 \n",
      "Episode: 39 Socre: 103.0 \n",
      "Episode: 40 Socre: 168.0 \n",
      "Episode: 41 Socre: 105.0 \n",
      "Episode: 42 Socre: 111.0 \n",
      "Episode: 43 Socre: 75.0 \n",
      "Episode: 44 Socre: 94.0 \n",
      "Episode: 45 Socre: 145.0 \n",
      "Episode: 46 Socre: 101.0 \n",
      "Episode: 47 Socre: 124.0 \n",
      "Episode: 48 Socre: 91.0 \n",
      "Episode: 49 Socre: 96.0 \n",
      "Episode: 50 Socre: 146.0 \n",
      "Episode: 51 Socre: 104.0 \n",
      "Episode: 52 Socre: 107.0 \n",
      "Episode: 53 Socre: 187.0 \n",
      "Episode: 54 Socre: 139.0 \n",
      "Episode: 55 Socre: 146.0 \n",
      "Episode: 56 Socre: 199.0 \n",
      "Episode: 57 Socre: 187.0 \n",
      "Episode: 58 Socre: 200.0 \n",
      "Episode: 59 Socre: 200.0 \n",
      "Episode: 60 Socre: 200.0 \n",
      "Episode: 61 Socre: 200.0 \n",
      "Episode: 62 Socre: 143.0 \n",
      "Episode: 63 Socre: 124.0 \n",
      "Episode: 64 Socre: 200.0 \n",
      "Episode: 65 Socre: 200.0 \n",
      "Episode: 66 Socre: 116.0 \n",
      "Episode: 67 Socre: 93.0 \n",
      "Episode: 68 Socre: 83.0 \n",
      "Episode: 69 Socre: 142.0 \n",
      "Episode: 70 Socre: 75.0 \n",
      "Episode: 71 Socre: 83.0 \n",
      "Episode: 72 Socre: 84.0 \n",
      "Episode: 73 Socre: 83.0 \n",
      "Episode: 74 Socre: 85.0 \n",
      "Episode: 75 Socre: 90.0 \n",
      "Episode: 76 Socre: 87.0 \n",
      "Episode: 77 Socre: 101.0 \n",
      "Episode: 78 Socre: 200.0 \n",
      "Episode: 79 Socre: 119.0 \n",
      "Episode: 80 Socre: 140.0 \n",
      "Episode: 81 Socre: 175.0 \n",
      "Episode: 82 Socre: 200.0 \n",
      "Episode: 83 Socre: 102.0 \n",
      "Episode: 84 Socre: 90.0 \n",
      "Episode: 85 Socre: 115.0 \n",
      "Episode: 86 Socre: 122.0 \n",
      "Episode: 87 Socre: 200.0 \n",
      "Episode: 88 Socre: 95.0 \n",
      "Episode: 89 Socre: 200.0 \n",
      "Episode: 90 Socre: 117.0 \n",
      "Episode: 91 Socre: 100.0 \n",
      "Episode: 92 Socre: 82.0 \n",
      "Episode: 93 Socre: 99.0 \n",
      "Episode: 94 Socre: 200.0 \n",
      "Episode: 95 Socre: 124.0 \n",
      "Episode: 96 Socre: 120.0 \n",
      "Episode: 97 Socre: 141.0 \n",
      "Episode: 98 Socre: 200.0 \n",
      "Episode: 99 Socre: 120.0 \n",
      "Episode: 100 Socre: 128.0 \n"
     ]
    }
   ],
   "source": [
    "from tensorflow.keras import models\n",
    "class DQNAgentWithCopy(DQNAgent):\n",
    "    def copy(self, model):\n",
    "        self.target_model = models.clone_model(model)\n",
    "        self.target_model.set_weights(model.get_weights())\n",
    "        return self.target_model\n",
    "\n",
    "agent1 = DQNAgentWithCopy(state_n, action_n)\n",
    "agent1.path = './save/cartpole-dqn.h5'\n",
    "episodes = 100\n",
    "scores1 = []\n",
    "for episode in range(1, episodes + 1): \n",
    "    state = env.reset()\n",
    "    done = False\n",
    "    score = 0  \n",
    "#     while not done:\n",
    "    for _ in range(200):\n",
    "#             env.render()\n",
    "        action = agent1.act(state)\n",
    "        next_state, reward, done, _ = env.step(action)\n",
    "        agent1.memorize(state, action, reward, next_state, done)\n",
    "        state = next_state\n",
    "        score += reward\n",
    "        agent1.learn()\n",
    "        if done: break\n",
    "    scores1.append(score)\n",
    "    print('Episode: {} Socre: {} '.format(episode, score))"
   ]
  },
  {
   "cell_type": "code",
   "execution_count": 21,
   "id": "soviet-criminal",
   "metadata": {},
   "outputs": [
    {
     "data": {
      "image/png": "[encoded data removed]",
      "text/plain": [
       "<Figure size 432x288 with 1 Axes>"
      ]
     },
     "metadata": {
      "needs_background": "light"
     },
     "output_type": "display_data"
    }
   ],
   "source": [
    "import matplotlib.pyplot as plt\n",
    "\n",
    "x = range(1, episodes + 1)\n",
    "withoutCopy = scores\n",
    "copy = scores1\n",
    "\n",
    "fig, ax = plt.subplots()\n",
    "\n",
    "line1, = ax.plot(x, withoutCopy, label='without target')\n",
    "# line1.set_dashes([2, 2, 10, 2])  \n",
    "line2, = ax.plot(x, copy, label='with target')\n",
    "\n",
    "ax.set_xlabel(r'episode', fontsize=15)\n",
    "ax.set_ylabel(r'score', fontsize=15)\n",
    "\n",
    "ax.legend()\n",
    "plt.show()"
   ]
  },
  {
   "cell_type": "code",
   "execution_count": null,
   "id": "pressing-feature",
   "metadata": {},
   "outputs": [],
   "source": []
  }
 ],
 "metadata": {
  "kernelspec": {
   "display_name": "Python 3",
   "language": "python",
   "name": "python3"
  },
  "language_info": {
   "codemirror_mode": {
    "name": "ipython",
    "version": 3
   },
   "file_extension": ".py",
   "mimetype": "text/x-python",
   "name": "python",
   "nbconvert_exporter": "python",
   "pygments_lexer": "ipython3",
   "version": "3.8.5"
  }
 },
 "nbformat": 4,
 "nbformat_minor": 5
}
