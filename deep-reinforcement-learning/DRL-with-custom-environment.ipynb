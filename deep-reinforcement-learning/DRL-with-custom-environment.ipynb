{
 "cells": [
  {
   "cell_type": "code",
   "execution_count": 1,
   "id": "biological-tunnel",
   "metadata": {},
   "outputs": [],
   "source": [
    "from gym import Env\n",
    "from gym.spaces import Discrete, Box\n",
    "import numpy as np\n",
    "import random"
   ]
  },
  {
   "cell_type": "code",
   "execution_count": 2,
   "id": "certified-jenny",
   "metadata": {},
   "outputs": [],
   "source": [
    "class ShowerEnv(Env):\n",
    "    def __init__(self, shower_length):\n",
    "        # Actions we can take: down, stay, up\n",
    "        self.action_space = Discrete(3)\n",
    "        # Temperature array\n",
    "        self.observation_space = Box(low=np.array([0.0]), high=np.array([100.0]))\n",
    "        # Set start temp\n",
    "        self.state = 38 + random.randint(-3, 3)\n",
    "        # Set shower length\n",
    "        self.shower_length = shower_length\n",
    "    \n",
    "    def step(self, action):\n",
    "        \n",
    "        # apply action\n",
    "        # 0 -> -1\n",
    "        # 1 -> 0\n",
    "        # 2 -> 1\n",
    "        self.state += (action - 1)\n",
    "        \n",
    "        # reduce shower length by 1 second\n",
    "        self.shower_length -= 1\n",
    "        \n",
    "        # calculate reward\n",
    "        if self.state >= 37 and self.state <= 39:\n",
    "            reward = 1;\n",
    "        else:\n",
    "            reward = -1\n",
    "        # check if shower is done\n",
    "        if self.shower_length <= 0:\n",
    "            done = True\n",
    "        else:\n",
    "            done = False\n",
    "        \n",
    "        # appply temperature noise, simulate the observations \n",
    "#         self.state += random.randint(-1, 1)\n",
    "        self.state += (random.random() - 0.5) * 0.5\n",
    "        \n",
    "        # set palceholder for info \n",
    "        info = {}\n",
    "        \n",
    "        return self.state, reward, done, info \n",
    "        \n",
    "        \n",
    "    def render(self):\n",
    "        # Implement viz\n",
    "        pass\n",
    "    def reset(self):\n",
    "        self.state = 38 + random.randint(-3, 3)\n",
    "        self.shower_length = 60\n",
    "        return self.state"
   ]
  },
  {
   "cell_type": "code",
   "execution_count": 3,
   "id": "professional-petroleum",
   "metadata": {},
   "outputs": [
    {
     "name": "stderr",
     "output_type": "stream",
     "text": [
      "/usr/local/lib/python3.8/site-packages/gym/logger.py:30: UserWarning: \u001b[33mWARN: Box bound precision lowered by casting to float32\u001b[0m\n",
      "  warnings.warn(colorize('%s: %s'%('WARN', msg % args), 'yellow'))\n"
     ]
    }
   ],
   "source": [
    "env = ShowerEnv(shower_length = 60)"
   ]
  },
  {
   "cell_type": "code",
   "execution_count": 4,
   "id": "terminal-recorder",
   "metadata": {},
   "outputs": [
    {
     "data": {
      "text/plain": [
       "1"
      ]
     },
     "execution_count": 4,
     "metadata": {},
     "output_type": "execute_result"
    }
   ],
   "source": [
    "env.action_space.sample()"
   ]
  },
  {
   "cell_type": "code",
   "execution_count": 5,
   "id": "romance-charm",
   "metadata": {},
   "outputs": [
    {
     "data": {
      "text/plain": [
       "array([1.3573842], dtype=float32)"
      ]
     },
     "execution_count": 5,
     "metadata": {},
     "output_type": "execute_result"
    }
   ],
   "source": [
    "env.observation_space.sample()"
   ]
  },
  {
   "cell_type": "code",
   "execution_count": 7,
   "id": "caroline-phone",
   "metadata": {},
   "outputs": [
    {
     "name": "stdout",
     "output_type": "stream",
     "text": [
      "Episode:1 Socre:-60\n",
      "Episode:2 Socre:-32\n",
      "Episode:3 Socre:-54\n",
      "Episode:4 Socre:-46\n",
      "Episode:5 Socre:6\n",
      "Episode:6 Socre:-54\n",
      "Episode:7 Socre:-22\n",
      "Episode:8 Socre:-12\n",
      "Episode:9 Socre:-42\n",
      "Episode:10 Socre:-4\n"
     ]
    }
   ],
   "source": [
    "episodes = 10\n",
    "for episode in range(1, episodes + 1):\n",
    "    state = env.reset()\n",
    "    done = False\n",
    "    score = 0\n",
    "    while not done:\n",
    "        env.render()\n",
    "        action = env.action_space.sample()\n",
    "        n_state, reward, done, info = env.step(action)\n",
    "        score += reward\n",
    "    print('Episode:{} Socre:{}'.format(episode, score))"
   ]
  },
  {
   "cell_type": "code",
   "execution_count": 8,
   "id": "attached-witch",
   "metadata": {},
   "outputs": [],
   "source": [
    "import numpy as np\n",
    "from tensorflow.keras.models import Sequential\n",
    "from tensorflow.keras.layers import Dense, Flatten\n",
    "from tensorflow.keras.optimizers import Adam\n",
    "\n",
    "def build_model(states, actions):\n",
    "    model = Sequential()\n",
    "#     model.add(Flatten(input_shape=(1, states)))\n",
    "    model.add(Dense(24, activation='relu', input_shape=states))\n",
    "    model.add(Dense(24, activation='relu'))\n",
    "    model.add(Dense(actions, activation='linear'))\n",
    "    return model"
   ]
  },
  {
   "cell_type": "code",
   "execution_count": 9,
   "id": "proprietary-utilization",
   "metadata": {},
   "outputs": [
    {
     "name": "stdout",
     "output_type": "stream",
     "text": [
      "(1,) 3\n"
     ]
    }
   ],
   "source": [
    "states = env.observation_space.shape\n",
    "actions = env.action_space.n\n",
    "print(states, actions)"
   ]
  },
  {
   "cell_type": "code",
   "execution_count": 14,
   "id": "activated-magnitude",
   "metadata": {},
   "outputs": [],
   "source": [
    "del model"
   ]
  },
  {
   "cell_type": "code",
   "execution_count": 15,
   "id": "outside-tomorrow",
   "metadata": {},
   "outputs": [
    {
     "name": "stdout",
     "output_type": "stream",
     "text": [
      "Model: \"sequential_1\"\n",
      "_________________________________________________________________\n",
      "Layer (type)                 Output Shape              Param #   \n",
      "=================================================================\n",
      "dense_3 (Dense)              (None, 24)                48        \n",
      "_________________________________________________________________\n",
      "dense_4 (Dense)              (None, 24)                600       \n",
      "_________________________________________________________________\n",
      "dense_5 (Dense)              (None, 3)                 75        \n",
      "=================================================================\n",
      "Total params: 723\n",
      "Trainable params: 723\n",
      "Non-trainable params: 0\n",
      "_________________________________________________________________\n"
     ]
    }
   ],
   "source": [
    "\n",
    "\n",
    "model = build_model(states, actions)\n",
    "model.summary()"
   ]
  },
  {
   "cell_type": "code",
   "execution_count": 16,
   "id": "resistant-million",
   "metadata": {},
   "outputs": [
    {
     "name": "stdout",
     "output_type": "stream",
     "text": [
      "Training for 50000 steps ...\n",
      "Interval 1 (0 steps performed)\n",
      "\r",
      "    1/10000 [..............................] - ETA: 21:55 - reward: -1.0000"
     ]
    },
    {
     "name": "stderr",
     "output_type": "stream",
     "text": [
      "/usr/local/lib/python3.8/site-packages/tensorflow/python/keras/engine/training.py:2325: UserWarning: `Model.state_updates` will be removed in a future version. This property should not be used in TensorFlow 2.0, as `updates` are applied automatically.\n",
      "  warnings.warn('`Model.state_updates` will be removed in a future version. '\n",
      "/usr/local/lib/python3.8/site-packages/rl/memory.py:40: UserWarning: Not enough entries to sample without replacement. Consider increasing your warm-up phase to avoid oversampling!\n",
      "  warnings.warn('Not enough entries to sample without replacement. Consider increasing your warm-up phase to avoid oversampling!')\n"
     ]
    },
    {
     "name": "stdout",
     "output_type": "stream",
     "text": [
      "10000/10000 [==============================] - 72s 7ms/step - reward: -0.7292\n",
      "166 episodes - episode_reward: -43.711 [-60.000, 20.000] - loss: 2.048 - mae: 6.382 - mean_q: -4.472\n",
      "\n",
      "Interval 2 (10000 steps performed)\n",
      "10000/10000 [==============================] - 77s 8ms/step - reward: -0.7772\n",
      "167 episodes - episode_reward: -46.695 [-60.000, 4.000] - loss: 2.328 - mae: 10.869 - mean_q: -15.520\n",
      "\n",
      "Interval 3 (20000 steps performed)\n",
      "10000/10000 [==============================] - 75s 8ms/step - reward: -0.7428\n",
      "167 episodes - episode_reward: -44.539 [-60.000, 0.000] - loss: 2.960 - mae: 13.217 - mean_q: -19.062\n",
      "\n",
      "Interval 4 (30000 steps performed)\n",
      "10000/10000 [==============================] - 77s 8ms/step - reward: -0.7534\n",
      "166 episodes - episode_reward: -45.217 [-60.000, 12.000] - loss: 2.524 - mae: 12.688 - mean_q: -18.194\n",
      "\n",
      "Interval 5 (40000 steps performed)\n",
      "10000/10000 [==============================] - 81s 8ms/step - reward: -0.7416\n",
      "done, took 383.635 seconds\n"
     ]
    },
    {
     "data": {
      "text/plain": [
       "<tensorflow.python.keras.callbacks.History at 0x142b4c820>"
      ]
     },
     "execution_count": 16,
     "metadata": {},
     "output_type": "execute_result"
    }
   ],
   "source": [
    "from rl.agents import DQNAgent\n",
    "from rl.policy import BoltzmannQPolicy\n",
    "from rl.memory import SequentialMemory\n",
    "\n",
    "def build_agent(model, actions):\n",
    "    policy = BoltzmannQPolicy()\n",
    "    memory = SequentialMemory(limit=50000, window_length=1)\n",
    "    dqn = DQNAgent(model=model, memory=memory, policy=policy, nb_actions=actions, nb_steps_warmup=10, target_model_update=1e-2)\n",
    "    return dqn\n",
    "\n",
    "dqn = build_agent(model, actions)\n",
    "dqn.compile(Adam(lr=1e-3), metrics=['mae'])\n",
    "dqn.fit(env, nb_steps=50000, visualize=False, verbose=1)"
   ]
  },
  {
   "cell_type": "code",
   "execution_count": 17,
   "id": "mediterranean-daughter",
   "metadata": {},
   "outputs": [
    {
     "name": "stdout",
     "output_type": "stream",
     "text": [
      "Testing for 20 episodes ...\n",
      "Episode 1: reward: -56.000, steps: 60\n",
      "Episode 2: reward: -58.000, steps: 60\n",
      "Episode 3: reward: -56.000, steps: 60\n",
      "Episode 4: reward: -60.000, steps: 60\n",
      "Episode 5: reward: -56.000, steps: 60\n",
      "Episode 6: reward: -60.000, steps: 60\n",
      "Episode 7: reward: -56.000, steps: 60\n",
      "Episode 8: reward: -58.000, steps: 60\n",
      "Episode 9: reward: -56.000, steps: 60\n",
      "Episode 10: reward: -60.000, steps: 60\n",
      "Episode 11: reward: -58.000, steps: 60\n",
      "Episode 12: reward: -60.000, steps: 60\n",
      "Episode 13: reward: -60.000, steps: 60\n",
      "Episode 14: reward: -58.000, steps: 60\n",
      "Episode 15: reward: -54.000, steps: 60\n",
      "Episode 16: reward: -54.000, steps: 60\n",
      "Episode 17: reward: -60.000, steps: 60\n",
      "Episode 18: reward: -60.000, steps: 60\n",
      "Episode 19: reward: -60.000, steps: 60\n",
      "Episode 20: reward: -60.000, steps: 60\n",
      "-58.0\n"
     ]
    }
   ],
   "source": [
    " scores = dqn.test(env, nb_episodes=20, visualize=False)\n",
    "print(np.mean(scores.history['episode_reward']))"
   ]
  },
  {
   "cell_type": "code",
   "execution_count": null,
   "id": "cheap-demographic",
   "metadata": {},
   "outputs": [],
   "source": []
  }
 ],
 "metadata": {
  "kernelspec": {
   "display_name": "Python 3",
   "language": "python",
   "name": "python3"
  },
  "language_info": {
   "codemirror_mode": {
    "name": "ipython",
    "version": 3
   },
   "file_extension": ".py",
   "mimetype": "text/x-python",
   "name": "python",
   "nbconvert_exporter": "python",
   "pygments_lexer": "ipython3",
   "version": "3.8.5"
  }
 },
 "nbformat": 4,
 "nbformat_minor": 5
}
